{
 "cells": [
  {
   "cell_type": "code",
   "execution_count": 1,
   "metadata": {},
   "outputs": [],
   "source": [
    "import numpy as np"
   ]
  },
  {
   "cell_type": "code",
   "execution_count": 2,
   "metadata": {},
   "outputs": [],
   "source": [
    "import models as m\n",
    "import plot_graphs as plot\n",
    "import conditional_independence as cond_indep"
   ]
  },
  {
   "cell_type": "code",
   "execution_count": 3,
   "metadata": {},
   "outputs": [],
   "source": [
    "from itertools import combinations"
   ]
  },
  {
   "cell_type": "code",
   "execution_count": null,
   "metadata": {},
   "outputs": [],
   "source": []
  },
  {
   "cell_type": "code",
   "execution_count": 4,
   "metadata": {},
   "outputs": [],
   "source": [
    "X, current_model = m.load_model(1)"
   ]
  },
  {
   "cell_type": "code",
   "execution_count": 5,
   "metadata": {},
   "outputs": [
    {
     "name": "stdout",
     "output_type": "stream",
     "text": [
      "[[0 0 0 0]\n",
      " [0 0 1 0]\n",
      " [0 0 0 1]\n",
      " [0 0 0 0]]\n"
     ]
    }
   ],
   "source": [
    "print(current_model)"
   ]
  },
  {
   "cell_type": "code",
   "execution_count": 6,
   "metadata": {},
   "outputs": [
    {
     "name": "stdout",
     "output_type": "stream",
     "text": [
      "[[ 0.63846157  0.79254625  0.06456664 -0.06252876]\n",
      " [-1.44024315  1.81238138  0.5991941   1.78549287]\n",
      " [-0.7205771   0.66541959 -0.28351888 -1.96095674]\n",
      " ...\n",
      " [-1.02241965 -0.96876503  0.55172409 -0.09725507]\n",
      " [-0.44352933 -1.90038046 -1.27169201 -2.25987822]\n",
      " [ 1.19683064  0.54566874  0.02520881  0.13909247]]\n"
     ]
    }
   ],
   "source": [
    "print(X)"
   ]
  },
  {
   "cell_type": "code",
   "execution_count": 7,
   "metadata": {},
   "outputs": [
    {
     "name": "stderr",
     "output_type": "stream",
     "text": [
      "/Users/Oana/python_virtual_envs/kausale_inferenz_virtualenv/lib/python3.6/site-packages/networkx/drawing/nx_pylab.py:611: MatplotlibDeprecationWarning: isinstance(..., numbers.Number)\n",
      "  if cb.is_numlike(alpha):\n"
     ]
    },
    {
     "data": {
      "image/png": "[encoded data removed]",
      "text/plain": [
       "<Figure size 432x144 with 2 Axes>"
      ]
     },
     "metadata": {},
     "output_type": "display_data"
    }
   ],
   "source": [
    "plot.plot_graphs(current_model, current_model)"
   ]
  },
  {
   "cell_type": "code",
   "execution_count": 8,
   "metadata": {},
   "outputs": [
    {
     "name": "stdout",
     "output_type": "stream",
     "text": [
      "{0: [1, 2, 3], 1: [0, 2, 3], 2: [0, 1, 3], 3: [0, 1, 2]}\n",
      "4\n"
     ]
    }
   ],
   "source": [
    "# Form complete graph\n",
    "n = X.shape[1]\n",
    "graph = np.ones((n ,n), dtype='int')\n",
    "graph[range(n),range(n)] = 0\n",
    "\n",
    "# Define adj\n",
    "adjacency = m.get_adj(graph)\n",
    "\n",
    "print(adjacency)\n",
    "print(n)\n",
    "\n",
    "l = 0\n",
    "C = current_model\n",
    "\n",
    "sig_level = 0.1\n",
    "\n",
    "sepset = dict()\n",
    "\n",
    "while max([len(value) for key, value in adjacency.items()]) >= l:\n",
    "    for i in range(n):\n",
    "        for j in range(i+1, n):\n",
    "            conditions = list(combinations([l for l in range(n) if l != i and l != j], l))\n",
    "        for S in conditions:\n",
    "            if len(S) > 0: z = X[:,S]\n",
    "            else: z = None\n",
    "            nonsig = cond_indep.test(x=X[:,i], y=X[:,j], z=z)[0]\n",
    "            if nonsig > sig_level:\n",
    "                graph[i,j] = graph[j,i] = 0\n",
    "                sepset.update({(i, j):S})\n",
    "                break\n",
    "            \n",
    "        l += 1\n"
   ]
  },
  {
   "cell_type": "code",
   "execution_count": 9,
   "metadata": {},
   "outputs": [
    {
     "data": {
      "image/png": "[encoded data removed]",
      "text/plain": [
       "<Figure size 432x144 with 2 Axes>"
      ]
     },
     "metadata": {},
     "output_type": "display_data"
    }
   ],
   "source": [
    "plot.plot_graphs(current_model, graph)"
   ]
  }
 ],
 "metadata": {
  "kernelspec": {
   "display_name": "Python 3",
   "language": "python",
   "name": "python3"
  },
  "language_info": {
   "codemirror_mode": {
    "name": "ipython",
    "version": 3
   },
   "file_extension": ".py",
   "mimetype": "text/x-python",
   "name": "python",
   "nbconvert_exporter": "python",
   "pygments_lexer": "ipython3",
   "version": "3.6.7"
  }
 },
 "nbformat": 4,
 "nbformat_minor": 2
}
